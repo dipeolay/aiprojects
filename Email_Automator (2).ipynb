{
  "cells": [
    {
      "cell_type": "markdown",
      "metadata": {
        "id": "e0n49UaWPGAd"
      },
      "source": [
        "# Solving Business Problems with AI\n",
        "\n",
        "## Objective\n",
        "Develop a proof-of-concept application to intelligently process email order requests and customer inquiries for a fashion store. The system should accurately categorize emails as either product inquiries or order requests and generate appropriate responses using the product catalog information and current stock status.\n",
        "\n",
        "## Task Description\n",
        "\n",
        "### Inputs\n",
        "\n",
        "Google Spreadsheet **[Document](https://docs.google.com/spreadsheets/d/14fKHsblfqZfWj3iAaM2oA51TlYfQlFT4WKo52fVaQ9U)** containing:\n",
        "\n",
        "- **Products**: List of products with fields including product ID, name, category, stock amount, detailed description, and season.\n",
        "\n",
        "- **Emails**: Sequential list of emails with fields such as email ID, subject, and body.\n",
        "\n",
        "### Instructions\n",
        "\n",
        "- Implement all requirements using advanced Large Language Models (LLMs) to handle complex tasks, process extensive data, and generate accurate outputs effectively.\n",
        "- Use Retrieval-Augmented Generation (RAG) and vector store techniques where applicable to retrieve relevant information and generate responses.\n",
        "- You are provided with a temporary OpenAI API key granting access to GPT-4o, which has a token quota. Use it wisely or use your own key if preferred.\n",
        "- Address the requirements in the order listed. Review them in advance to develop a general implementation plan before starting.\n",
        "- Your deliverables should include:\n",
        "   - Code developed within this notebook.\n",
        "   - A single spreadsheet containing results, organized across separate sheets.\n",
        "   - Comments detailing your thought process.\n",
        "- You may use additional libraries (e.g., langchain) to streamline the solution. Use libraries appropriately to align with best practices for AI and LLM tools.\n",
        "- Use the most suitable AI techniques for each task. Note that solving tasks with traditional programming methods will not earn points, as this assessment evaluates your knowledge of LLM tools and best practices.\n",
        "\n",
        "### Requirements\n",
        "\n",
        "#### 1. Classify emails\n",
        "    \n",
        "Classify each email as either a _**\"product inquiry\"**_ or an _**\"order request\"**_. Ensure that the classification accurately reflects the intent of the email.\n",
        "\n",
        "**Output**: Populate the **email-classification** sheet with columns: email ID, category.\n",
        "\n",
        "#### 2. Process order requests\n",
        "1.   Process orders\n",
        "  - For each order request, verify product availability in stock.\n",
        "  - If the order can be fulfilled, create a new order line with the status “created”.\n",
        "  - If the order cannot be fulfilled due to insufficient stock, create a line with the status “out of stock” and include the requested quantity.\n",
        "  - Update stock levels after processing each order.\n",
        "  - Record each product request from the email.\n",
        "  - **Output**: Populate the **order-status** sheet with columns: email ID, product ID, quantity, status (**_\"created\"_**, **_\"out of stock\"_**).\n",
        "\n",
        "2.   Generate responses\n",
        "  - Create response emails based on the order processing results:\n",
        "      - If the order is fully processed, inform the customer and provide product details.\n",
        "      - If the order cannot be fulfilled or is only partially fulfilled, explain the situation, specify the out-of-stock items, and suggest alternatives or options (e.g., waiting for restock).\n",
        "  - Ensure the email tone is professional and production-ready.\n",
        "  - **Output**: Populate the **order-response** sheet with columns: email ID, response.\n",
        "\n",
        "#### 3. Handle product inquiry\n",
        "\n",
        "Customers may ask general open questions.\n",
        "  - Respond to product inquiries using relevant information from the product catalog.\n",
        "  - Ensure your solution scales to handle a full catalog of over 100,000 products without exceeding token limits. Avoid including the entire catalog in the prompt.\n",
        "  - **Output**: Populate the **inquiry-response** sheet with columns: email ID, response.\n",
        "\n",
        "## Evaluation Criteria\n",
        "- **Advanced AI Techniques**: The system should use Retrieval-Augmented Generation (RAG) and vector store techniques to retrieve relevant information from data sources and use it to respond to customer inquiries.\n",
        "- **Tone Adaptation**: The AI should adapt its tone appropriately based on the context of the customer's inquiry. Responses should be informative and enhance the customer experience.\n",
        "- **Code Completeness**: All functionalities outlined in the requirements must be fully implemented and operational as described.\n",
        "- **Code Quality and Clarity**: The code should be well-organized, with clear logic and a structured approach. It should be easy to understand and maintain.\n",
        "- **Presence of Expected Outputs**: All specified outputs must be correctly generated and saved in the appropriate sheets of the output spreadsheet. Ensure the format of each output matches the requirements—do not add extra columns or sheets.\n",
        "- **Accuracy of Outputs**: The accuracy of the generated outputs is crucial and will significantly impact the evaluation of your submission.\n",
        "\n",
        "We look forward to seeing your solution and your approach to solving real-world problems with AI technologies."
      ]
    },
    {
      "cell_type": "markdown",
      "metadata": {
        "id": "GOUEcKe-xSPr"
      },
      "source": [
        "# Prerequisites"
      ]
    },
    {
      "cell_type": "markdown",
      "metadata": {
        "id": "otSVe-sQ-CsW"
      },
      "source": [
        "### Configure OpenAI API Key."
      ]
    },
    {
      "cell_type": "code",
      "execution_count": null,
      "metadata": {
        "id": "UvOkHAkDghww",
        "collapsed": true
      },
      "outputs": [],
      "source": [
        "# Install the OpenAI Python package.\n",
        "%pip install openai\n"
      ]
    },
    {
      "cell_type": "markdown",
      "source": [
        "**IMPORTANT: If you are going to use our custom API Key then make sure that you also use custom base URL as in example below. Otherwise it will not work.**"
      ],
      "metadata": {
        "id": "IKJf-dPLwXMu"
      }
    },
    {
      "cell_type": "code",
      "execution_count": null,
      "metadata": {
        "id": "caEG5zIMw8DV"
      },
      "outputs": [],
      "source": [
        "# OpenAI communication\n",
        "\n",
        "from openai import OpenAI\n",
        "import os\n",
        "import getpass\n",
        "\n",
        "\n",
        "os.environ['OPENAI_API_KEY'] = getpass.getpass('Paste API key:')\n",
        "client = OpenAI(\n",
        "    api_key=os.environ['OPENAI_API_KEY']\n",
        ")\n",
        "\n",
        "completion = client.chat.completions.create(\n",
        "  model=\"gpt-4o\",\n",
        "  messages=[\n",
        "    {\"role\": \"user\", \"content\": \"Hello!\"}\n",
        "  ]\n",
        ")\n",
        "OpenAI()\n",
        "print(completion.choices[0].message)"
      ]
    },
    {
      "cell_type": "code",
      "source": [
        "# Code example of reading input data\n",
        "\n",
        "import pandas as pd\n",
        "from IPython.display import display\n",
        "\n",
        "def read_data_frame(document_id, sheet_name):\n",
        "    export_link = f\"https://docs.google.com/spreadsheets/d/{document_id}/gviz/tq?tqx=out:csv&sheet={sheet_name}\"\n",
        "    return  pd.read_csv(export_link)\n",
        "\n",
        "document_id = '138liOBnXQvw28By66Ahd5ArOYDg_LOpKPaR_1LbdkUg'\n",
        "products_df = read_data_frame(document_id, 'products')\n",
        "emails_df = read_data_frame(document_id, 'emails')\n",
        "\n",
        "# Display first 3 rows of each DataFrame\n",
        "display(products_df.head(3))\n",
        "display(emails_df.head(3))"
      ],
      "metadata": {
        "id": "shE97VzGwZ4v",
        "collapsed": true
      },
      "execution_count": null,
      "outputs": []
    },
    {
      "cell_type": "markdown",
      "metadata": {
        "id": "zyvqJ-BUNKQR"
      },
      "source": [
        "# Task 1. Classify emails"
      ]
    },
    {
      "cell_type": "code",
      "source": [
        "# Mounts Google Drive to access files stored in a personal drive.\n",
        "# Note: This is configured for a personal Google Drive setup and is intended for development and testing.\n",
        "# For production, replace this setup with a more secure and scalable file storage solution, such as a cloud storage service\n",
        "# (e.g., Google Cloud Storage, AWS S3) that supports access control and scalability.\n",
        "\n",
        "from google.colab import drive\n",
        "drive.mount('/content/drive')\n",
        "%cd '/content/drive/My Drive/Colab Notebooks/Crossover Assessments'"
      ],
      "metadata": {
        "id": "GeaLITPQ3Cq4"
      },
      "execution_count": null,
      "outputs": []
    },
    {
      "cell_type": "code",
      "source": [
        "# Install and import necessary libraries for Google Sheets integration, language model processing, and vector storage.\n",
        "\n",
        "\n",
        "%pip install gspread oauth2client\n",
        "%pip install langchain\n",
        "%pip install -U langchain langchain-openai langchain-community\n",
        "%pip install faiss-cpu\n",
        "\n",
        "# Import libraries for Google Sheets API access, authentication, and language model processing\n",
        "import gspread\n",
        "from google.oauth2.service_account import Credentials\n",
        "from oauth2client.service_account import ServiceAccountCredentials\n",
        "\n",
        "# Import LangChain components for creating and managing LLM-based chains and embeddings\n",
        "from langchain.chains import LLMChain\n",
        "from langchain.llms import OpenAI\n",
        "from langchain_openai import ChatOpenAI\n",
        "from langchain.embeddings import OpenAIEmbeddings\n",
        "from langchain.vectorstores import FAISS\n",
        "from langchain.prompts import PromptTemplate\n",
        "import pandas as pd\n",
        "from langchain.document_loaders import DataFrameLoader\n",
        "from langchain.schema import Document\n",
        "from langchain_core.output_parsers import StrOutputParser\n",
        "import json\n",
        "import ast"
      ],
      "metadata": {
        "collapsed": true,
        "id": "-ah2Rk6UQfsd"
      },
      "execution_count": null,
      "outputs": []
    },
    {
      "cell_type": "code",
      "source": [
        "# SET UP OBSERVABILITY FOR LANGCHAIN\n",
        "# This setup enables tracing and monitoring for LangChain operations, helping to track usage, performance, and errors.\n",
        "# Environment variables are used to configure observability with LangChain's tracing API.\n",
        "#\n",
        "# Note: The default endpoint (https://api.smith.langchain.com) is a LangChain-provided API.\n",
        "# For production use, you should implement and configure your own observability solution or API endpoint\n",
        "# to meet specific logging, security, and compliance requirements within your organization.\n",
        "\n",
        "# Enable advanced tracing to capture detailed operation metrics\n",
        "os.environ['LANGCHAIN_TRACING_V2'] = 'true'\n",
        "# Set the observability API endpoint (replace this with your own in production)\n",
        "os.environ['LANGCHAIN_ENDPOINT'] = 'https://api.smith.langchain.com'\n",
        "# Prompt for an API key securely\n",
        "os.environ['LANGCHAIN_API_KEY'] = getpass.getpass('Paste API key:')\n",
        "# Set the project name for organized tracking within the observability platform\n",
        "os.environ['LANGCHAIN_PROJECT'] = 'crossover-assessment'\n",
        "\n"
      ],
      "metadata": {
        "colab": {
          "base_uri": "https://localhost:8080/"
        },
        "id": "S2QovoBose_2",
        "outputId": "da03c3f1-6a7c-4cdd-e23c-6f3c8dca21a2"
      },
      "execution_count": null,
      "outputs": [
        {
          "name": "stdout",
          "output_type": "stream",
          "text": [
            "Paste API key:··········\n"
          ]
        }
      ]
    },
    {
      "cell_type": "code",
      "source": [
        "# Create a vector store for the product catalog.\n",
        "# For now, an in-memory vector store (FAISS) is used to quickly retrieve similar products based on embeddings.\n",
        "# In a production setting, consider using a scalable, persistent backend like Chroma or Pinecone to handle\n",
        "# larger datasets and support distributed access.\n",
        "\n",
        "# Load the product DataFrame into LangChain's document format\n",
        "# - Using \"name\" as the main content column to create embeddings based on product names\n",
        "product_loader = DataFrameLoader(products_df, page_content_column=\"name\")\n",
        "product_documents = product_loader.load() # Load data into document format for embedding\n",
        "\n",
        "# Generate embeddings for product documents and initialize FAISS vector store for similarity search\n",
        "# Use OpenAI's embedding model to create product embeddings\n",
        "embeddings = OpenAIEmbeddings()\n",
        "product_vectors = FAISS.from_documents(product_documents, embeddings)\n"
      ],
      "metadata": {
        "id": "gUBpWNACSH_8"
      },
      "execution_count": null,
      "outputs": []
    },
    {
      "cell_type": "code",
      "source": [
        "# Create prompt templates for classification and response generation\n",
        "# Each prompt template is tailored for a specific task: classification, order processing, order extraction, and product inquiry.\n",
        "# Prompts include detailed instructions to guide the assistant's responses, ensuring accuracy, professionalism, and alignment with the tone of customer interactions.\n",
        "\n",
        "\n",
        "classification_prompt = PromptTemplate(\n",
        "    input_variables=[\"email\"],\n",
        "    template=\"\"\"\n",
        "    You are an expert customer service assistant.\n",
        "    Classify the following email into one of these categories:\n",
        "    - \"product inquiry\" if the email is asking for more information about a product or any time the email does not specify a product name or quantity. Use this exact phrase when classifying.\n",
        "    - \"order request\" if the email is requesting to buy or order a product. Use this exact phrase when classifying.\n",
        "    Read both the subject and the message of the email to make the classification. Not every email with a product id is an order request.\n",
        "    Return only the category and no other text. Note that some of the emails are not in English. Identify the language of the email and translate it to English before classifying.\n",
        "\n",
        "    Email: {email}\n",
        "\n",
        "    \"\"\"\n",
        ")\n",
        "\n",
        "\n",
        "order_prompt = PromptTemplate(\n",
        "    input_variables=[\"product_info\", \"email\"],\n",
        "    template=\"\"\"\n",
        "\n",
        "    Your name is AImy. You are a helpful, professional and friendly assistant that responds to customer emails.\n",
        "    Respond to the order request based on product info. Check 'stock'. Check if there is enough stock to fulfill the order. If there is enough stock, fill the order.\n",
        "    If there is not enough stock, suggest similar alternatives or suggest the customer waits for a restock. If there is some but not enough stock,\n",
        "    fill the order and suggest similar alternatives or suggest the customer waits for a restock for the remaining items. Give examples of similar items from the product list.\n",
        "    Only use products from the product list. Do not make up any products. Always double-check the stock numbers to ensure you are not making a mistake.\n",
        "    Think about each step before you take it. If you do not understand an order, say you don't understand and ask for clarification.\n",
        "    If no products are specified, respond precisely with \"I am unable to process this order. Please provide more details\".\n",
        "    Never start an email with \"I'm sorry...\"\n",
        "    Assume we can place the order once product and quantity is verified. Shipping details can be collected in a later step.\n",
        "    Please note that some of the emails are not in English. Identify the language of the email and respond in the same language.\n",
        "    Make sure all responses are properly formatted and match the tone of the order email.\n",
        "\n",
        "\n",
        "    Product Info: {product_info}\n",
        "    Email: {email}\n",
        "\n",
        "    \"\"\"\n",
        ")\n",
        "\n",
        "order_extraction_prompt = PromptTemplate(\n",
        "    input_variables=[\"product_info\", \"email\"],\n",
        "    template=\"\"\"\n",
        "    You are an expert customer service assistant.\n",
        "    Extract each product name and its requested quantity from the following email.\n",
        "    If a quantity is not specified, assume a quantity of 1.\n",
        "    Only return a string in the following format:\n",
        "    {{'product_id': 'CLF2109', 'product_name': 'Cable Knit Beanies', 'quantity': 2}}\n",
        "\n",
        "    Do not return any other text.\n",
        "\n",
        "    Email: {email}\n",
        "\n",
        "    \"\"\"\n",
        ")\n",
        "\n",
        "\n",
        "inquiry_prompt = PromptTemplate(\n",
        "    input_variables=[\"product_info\", \"email\"],\n",
        "    template=\"\"\"\n",
        "\n",
        "    Your name is AImy.You are a helpful, professional and friendly assistant that responds to customer emails.\n",
        "    Answer the email based on the product info below.  If it is a product inquiry, answer the question.\n",
        "    If you can't answer the question, ask for more information. Do not make anything up.\n",
        "    Please note that some of the emails are not in English. Identify the language of the email and respond in the same language.\n",
        "    Make sure all responses are properly formatted and match the tone of the inquiry.\n",
        "\n",
        "\n",
        "    Email: {email}\n",
        "\n",
        "    \"\"\"\n",
        ")\n"
      ],
      "metadata": {
        "id": "3Vw3kHKbTSZ4"
      },
      "execution_count": null,
      "outputs": []
    },
    {
      "cell_type": "code",
      "source": [
        "# Initialize the language models (LLMs) for processing responses\n",
        "# - Using OpenAI's gpt-4o for initial response generation and email classification tasks.\n",
        "# - Using OpenAI's gpt-4 for order processing tasks where handling missing or incomplete inputs is crucial.\n",
        "#\n",
        "# Rationale:\n",
        "# Through experimentation, I observed that gpt-4o struggles with scenarios where expected inputs are partially missing or incomplete.\n",
        "# In contrast, gpt-4 demonstrates better robustness and adaptability, making it more suitable for handling order processing.\n",
        "# Temperature is set to 0 for both models to ensure deterministic, consistent responses.\n",
        "\n",
        "mdl = ChatOpenAI(model_name='gpt-4o', temperature=0)  # Model for classification and general response generation\n",
        "mdl4 = ChatOpenAI(model_name='gpt-4', temperature=0)  # Model for order processing\n"
      ],
      "metadata": {
        "id": "0BfjKMLMZQvl"
      },
      "execution_count": null,
      "outputs": []
    },
    {
      "cell_type": "code",
      "source": [
        "# Set up processing chains with LangChain to manage classification, order handling, and response generation.\n",
        "# Each chain is tailored to specific tasks, leveraging the strengths of different models:\n",
        "# - gpt-4o is used for general formatting and extraction tasks, as it produces well-structured outputs for classifications and inquiries.\n",
        "# - gpt-4 is used for order processing tasks due to its superior handling of missing or incomplete data.\n",
        "#\n",
        "# A parser (StrOutputParser) is applied to each chain to standardize the output for consistent downstream handling.\n",
        "\n",
        "parser = StrOutputParser()  # Ensures that chain outputs are returned in a uniform string format\n",
        "\n",
        "# Chains for each specific task:\n",
        "classification_chain = classification_prompt | mdl | parser  # Classifies email intent as \"order request\" or \"product inquiry\"\n",
        "order_chain = order_prompt | mdl4 | parser  # Processes order requests, handling complex data dependencies more effectively\n",
        "order_extraction_chain = order_extraction_prompt | mdl | parser  # Extracts product details and quantities from the email content\n",
        "inquiry_chain = inquiry_prompt | mdl | parser  # Handles product inquiries, generating informative responses based on relevant product data\n"
      ],
      "metadata": {
        "id": "V_NlhyvPaC4b"
      },
      "execution_count": null,
      "outputs": []
    },
    {
      "cell_type": "code",
      "source": [
        "# Initialize Google Sheets API client and access the target document on Google Drive\n",
        "# This setup currently accesses a personal Drive using credentials stored in a JSON key file.\n",
        "# Note: The file path and access scope may need to be adapted for production, especially to support\n",
        "# multi-user or secure access in a shared or enterprise environment.\n",
        "\n",
        "\n",
        "key_path = 'path/to/credentials.json'\n",
        "scope = [\"https://www.googleapis.com/auth/spreadsheets\"]\n",
        "creds = ServiceAccountCredentials.from_json_keyfile_name(key_path, scope)\n",
        "client = gspread.authorize(creds)\n",
        "\n",
        "document = client.open_by_key(document_id)"
      ],
      "metadata": {
        "id": "1JzKFw5YjXc4"
      },
      "execution_count": null,
      "outputs": []
    },
    {
      "cell_type": "code",
      "source": [
        "# Create or clear sheets to store the output results:\n",
        "# 1. `email-classification`: Stores the classification of each email as either \"order request\" or \"product inquiry\".\n",
        "# 2. `order-status`: Logs details for each ordered product, including product ID, quantity requested,\n",
        "#    and order status (e.g., \"created\" or \"out of stock\").\n",
        "# 3. `order-response`: Stores responses generated for each order request, tailored to the order details.\n",
        "# 4. `inquiry-response`: Stores responses for product inquiries, providing relevant information based on customer questions.\n",
        "\n",
        "# Attempt to access each sheet by name; if not found, create it.\n",
        "# If the sheet exists, clear previous content to prepare for new data.\n",
        "try:\n",
        "    email_classification_sheet = document.worksheet('email-classification')\n",
        "    email_classification_sheet.clear()\n",
        "except gspread.exceptions.WorksheetNotFound:\n",
        "    email_classification_sheet = document.add_worksheet(title=\"email-classification\", rows=len(emails_df)+1, cols=2)\n",
        "\n",
        "try:\n",
        "    order_status_sheet = document.worksheet('order-status')\n",
        "    order_status_sheet.clear()\n",
        "except gspread.exceptions.WorksheetNotFound:\n",
        "    order_status_sheet = document.add_worksheet(title=\"order-status\", rows=len(emails_df)+1, cols=4)\n",
        "\n",
        "try:\n",
        "    order_response_sheet = document.worksheet('order-response')\n",
        "    order_response_sheet.clear()\n",
        "except gspread.exceptions.WorksheetNotFound:\n",
        "    order_response_sheet = document.add_worksheet(title=\"order-response\", rows=len(emails_df)+1, cols=2)\n",
        "\n",
        "try:\n",
        "    inquiry_response_sheet = document.worksheet('inquiry-response')\n",
        "    inquiry_response_sheet.clear()\n",
        "except gspread.exceptions.WorksheetNotFound:\n",
        "    inquiry_response_sheet = document.add_worksheet(title=\"inquiry-response\", rows=len(emails_df)+1, cols=2)"
      ],
      "metadata": {
        "id": "YojqPlF_W0AA"
      },
      "execution_count": null,
      "outputs": []
    },
    {
      "cell_type": "code",
      "source": [
        "#List to store classification results\n",
        "classification_results = []"
      ],
      "metadata": {
        "id": "DglR9RjielMB"
      },
      "execution_count": null,
      "outputs": []
    },
    {
      "cell_type": "markdown",
      "metadata": {
        "id": "lm3ZeatjYjM3"
      },
      "source": [
        "# Task 2. Process order requests"
      ]
    },
    {
      "cell_type": "code",
      "source": [
        "#Lists to store order status, order responses, inquiry responses\n",
        "order_status_results = []\n",
        "order_response_results = []\n",
        "inquiry_response_results = []"
      ],
      "metadata": {
        "id": "pHdWtmPGfDgW"
      },
      "execution_count": null,
      "outputs": []
    },
    {
      "cell_type": "markdown",
      "metadata": {
        "id": "29ExT_MQRhos"
      },
      "source": [
        "# Task 3. Handle product inquiry"
      ]
    },
    {
      "cell_type": "code",
      "source": [
        "# This loop forms the core of the email processing pipeline, handling each email in the dataset.\n",
        "# It begins by classifying each email's intent (order request or product inquiry) using the classification chain.\n",
        "# For order requests, the code extracts individual product entries and their quantities from the email,\n",
        "# then performs a similarity search to identify matching products in the catalog.\n",
        "# For each product, it checks stock availability and assigns an order status (\"created\" or \"out of stock\")\n",
        "# based on whether the requested quantity is in stock.\n",
        "# It then generates and records a customized response for each product line in the order,\n",
        "# updating stock levels and saving the order status for further processing.\n",
        "#\n",
        "# For product inquiries, the code retrieves the most relevant products via similarity search and generates a\n",
        "# tailored response that addresses the customer's query, leveraging product details to provide accurate and engaging\n",
        "# information. All generated responses, whether for order requests or inquiries, are appended to their respective\n",
        "# results lists, preparing them for final storage or dispatch.\n",
        "\n",
        "\n",
        "for _, row in emails_df.iterrows():\n",
        "    email_id = row['email_id']  # Extract the unique email ID\n",
        "    email_message = row['message']  # Extract the email content for processing\n",
        "    # Classify the email as either an \"order request\" or \"product inquiry\" using the classification chain\n",
        "    classification = classification_chain.invoke({\"email\": email_message})\n",
        "    print(f\"Email ID: {email_id}, Classification: {classification}\")\n",
        "    # Append classification result to the classification_results list\n",
        "    classification_results.append({\"email ID\": email_id, \"category\": classification})\n",
        "    products_ordered = []\n",
        "    # Process order requests\n",
        "    if classification == \"order request\":\n",
        "        product_entries = order_extraction_chain.invoke({\"email\": email_message}).split('\\n')\n",
        "        for entry in product_entries:\n",
        "          products_ordered.append(ast.literal_eval(entry))\n",
        "          products_ordered_df = pd.DataFrame(products_ordered)\n",
        "          product_name = str(products_ordered_df['product_name'].iloc[-1])\n",
        "          quantity_requested = products_ordered_df['quantity'].iloc[-1]\n",
        "          #print(product_name, quantity_requested)\n",
        "\n",
        "          # Use vector search to retrieve products that are relevant to the email content\n",
        "          relevant_products = product_vectors.similarity_search(product_name,k=1)[0]\n",
        "          product_id = relevant_products.metadata[\"product_id\"]\n",
        "\n",
        "          # Check the stock level of the identified product in the products DataFrame\n",
        "          stock = products_df.loc[products_df['product_id'] == product_id, 'stock'].values[0]\n",
        "\n",
        "          # Determine order status based on stock availability\n",
        "          if stock >= quantity_requested:\n",
        "              status = \"created\"  # Order can be fulfilled\n",
        "              # Decrement stock to reflect the new level after order fulfillment\n",
        "              products_df.loc[products_df['product_id'] == product_id, 'stock'] -= quantity_requested\n",
        "          else:\n",
        "              status = \"out of stock\"  # Insufficient stock to fulfill the order\n",
        "\n",
        "          # Append order status to order_status_results list for each product in the order\n",
        "          order_status_results.append({\n",
        "              \"email ID\": email_id,\n",
        "              \"product ID\": product_id,\n",
        "              \"quantity\": quantity_requested,\n",
        "              \"status\": status\n",
        "          })\n",
        "\n",
        "          # Generate a response to the order request based on order status\n",
        "          try:\n",
        "            response =  order_chain.invoke({\n",
        "              \"email\": email_message,\n",
        "              \"product_info\": relevant_products.page_content\n",
        "            })\n",
        "          except Exception as e:\n",
        "            response = str(\"I'm unable to process and respond to this email at this time. Please try again later.\")\n",
        "          # Append the response to the order_response_results list\n",
        "          order_response_results.append({\"email ID\": email_id, \"response\": response})\n",
        "          print(f\"Response: {response}\")\n",
        "\n",
        "    # Process product inquiries\n",
        "    elif classification == \"product inquiry\":\n",
        "        # Retrieve relevant products using vector search to provide accurate response content\n",
        "        relevant_products = product_vectors.similarity_search(email_message,k=2)\n",
        "        # Generate a response to the inquiry based on the most relevant product found\n",
        "        try:\n",
        "          response =  inquiry_chain.invoke({\n",
        "            \"email\": email_message,\n",
        "            \"product_info\": relevant_products[0].page_content  # Provide info on the most relevant product\n",
        "          })\n",
        "        except Exception as e:\n",
        "          response = str(\"I'm unable to process and respond to this email at this time. Please try again later.\")\n",
        "\n",
        "        # Append the inquiry response to inquiry_response_results list\n",
        "        inquiry_response_results.append({\"email ID\": email_id, \"response\": response})\n",
        "        print(f\"Response: {response}\")"
      ],
      "metadata": {
        "colab": {
          "base_uri": "https://localhost:8080/"
        },
        "id": "PcJPXdRlfVzV",
        "outputId": "61732119-e47e-464a-9b40-da8b27c7ada4"
      },
      "execution_count": null,
      "outputs": [
        {
          "output_type": "stream",
          "name": "stdout",
          "text": [
            "Email ID: E001, Classification: order request\n",
            "Leather Bifold Wallets 1\n",
            "Response: Dear Customer,\n",
            "\n",
            "Thank you for your interest in our LTH0976 Leather Bifold Wallets. I am pleased to inform you that we currently have a sufficient stock to fulfill your order. I will proceed with placing your order for all the remaining wallets.\n",
            "\n",
            "Once your order is confirmed, we will send you an email with the shipping details and expected delivery date. \n",
            "\n",
            "Thank you for choosing us for your boutique shop. We are confident that these wallets will be a great addition to your inventory.\n",
            "\n",
            "Best Regards,\n",
            "AImy\n",
            "Email ID: E002, Classification: order request\n",
            "Vibrant Tote bag 1\n",
            "Response: Dear Jessica,\n",
            "\n",
            "Thank you for your interest in our VBT2345 Vibrant Tote bag. I completely agree with you, tote bags are indeed very convenient and versatile. \n",
            "\n",
            "I am pleased to inform you that we currently have the Vibrant Tote in stock and are ready to process your order. \n",
            "\n",
            "Please let us know the quantity you wish to order and we will proceed with the next steps. \n",
            "\n",
            "Looking forward to hearing from you soon.\n",
            "\n",
            "Best regards,\n",
            "AImy\n",
            "Email ID: E003, Classification: product inquiry\n",
            "Response: Hello David,\n",
            "\n",
            "Thank you for reaching out with your inquiry. Both the LTH1098 Leather Backpack and the Leather Tote are excellent choices for carrying a laptop and documents. Here's a brief comparison to help you decide:\n",
            "\n",
            "- **LTH1098 Leather Backpack**: This backpack is designed with multiple organizational pockets, including a padded compartment for your laptop, several interior pockets for documents, and additional exterior pockets for easy access to smaller items.\n",
            "\n",
            "- **Leather Tote**: The tote offers a more streamlined design with fewer pockets. It includes a main compartment that can accommodate a laptop and documents, along with a couple of smaller interior pockets for essentials.\n",
            "\n",
            "If having more organizational pockets is a priority for you, the LTH1098 Leather Backpack might be the better option. However, if you prefer a more minimalist design, the Leather Tote could be ideal.\n",
            "\n",
            "I hope this helps with your decision! If you have any more questions, feel free to ask.\n",
            "\n",
            "Best regards,  \n",
            "AImy\n",
            "Email ID: E004, Classification: order request\n",
            "Infinity Scarves 3\n",
            "Response: Stock Info: SFT1098 Infinity Scarf - 5 in stock\n",
            "\n",
            "Dear Customer,\n",
            "\n",
            "Thank you for your interest in our SFT1098 Infinity Scarves. I'm delighted to hear that your wife enjoys our scarves. We currently have 5 of these scarves in stock, so we can definitely fulfill your order for 3 to 4 scarves. \n",
            "\n",
            "Please proceed with specifying the exact quantity and the colors you prefer, so we can finalize your order. \n",
            "\n",
            "Looking forward to serving you.\n",
            "\n",
            "Best Regards,\n",
            "AImy\n",
            "Email ID: E005, Classification: product inquiry\n",
            "Response: Good day,\n",
            "\n",
            "Thank you for reaching out with your inquiry about the CSH1098 Cozy Shawl. The shawl is designed to be versatile, allowing it to be worn both as a thick wrapping scarf and as a lightweight lap blanket. The material is soft and of good quality, making it suitable for use as a lap blanket, especially for someone who appreciates a cozy and warm accessory. At $22, it offers a great balance of comfort and affordability, making it a thoughtful gift for your grandmother.\n",
            "\n",
            "If you have any more questions or need further assistance, please feel free to ask.\n",
            "\n",
            "Best regards,  \n",
            "AImy\n",
            "Email ID: E006, Classification: product inquiry\n",
            "Response: Email: Hey Sam,\n",
            "\n",
            "Thank you for reaching out! The CBT8901 Chelsea Boots are a great choice for the colder months. They are designed to provide both style and comfort, perfect for fall and winter. If you have any questions about the boots or need assistance when you're ready to place your order, feel free to reach out. We're here to help!\n",
            "\n",
            "Best regards,  \n",
            "AImy\n",
            "Email ID: E007, Classification: order request\n",
            "Cable Knit Beanies 5\n",
            "Response: Dear Liz,\n",
            "\n",
            "Thank you for your interest in our products. I have checked our inventory and I'm pleased to inform you that we have enough stock to fulfill your order for 5 CLF2109 Cable Knit Beanies. \n",
            "\n",
            "However, I regret to inform you that we currently only have 1 pair of FZZ1098 Fuzzy Slippers in stock. We are expecting a restock in the next two weeks. Would you like to proceed with the order for 1 pair now and wait for the restock for the remaining pair? Alternatively, we have a similar product, the FZZ2098 Plush Slippers, available in stock. \n",
            "\n",
            "Please let me know how you would like to proceed. \n",
            "\n",
            "Best Regards,\n",
            "AImy\n",
            "Fuzzy Slippers 2\n",
            "Response: Dear Liz,\n",
            "\n",
            "Thank you for your order request. I have checked our stock and I'm pleased to inform you that we have enough FZZ1098 Fuzzy Slippers to fulfill your order. \n",
            "\n",
            "However, I regret to inform you that we currently only have 3 CLF2109 Cable Knit Beanies in stock. I can place an order for these 3 items right away. For the remaining 2 beanies, you have two options:\n",
            "\n",
            "1. I can suggest similar items such as the CLF2110 Pom Pom Beanies or the CLF2111 Slouchy Beanies. Both are very popular and would make great additions to your holiday gift baskets.\n",
            "2. You can wait for a restock of the CLF2109 Cable Knit Beanies. We are expecting a new shipment in two weeks.\n",
            "\n",
            "Please let me know how you would like to proceed with your order. \n",
            "\n",
            "Best Regards,\n",
            "AImy\n",
            "Email ID: E008, Classification: order request\n",
            "Versatile Scarves 1\n",
            "Response: Dear Customer,\n",
            "\n",
            "Thank you for your interest in our Versatile Scarf. I am pleased to inform you that we have sufficient stock to fulfill your order. This scarf is indeed a great choice, versatile and stylish, perfect for any occasion.\n",
            "\n",
            "I will proceed with placing your order. Further details regarding shipping and payment will be provided in the next steps.\n",
            "\n",
            "Thank you for choosing our products. If you have any other questions or need further assistance, please don't hesitate to ask.\n",
            "\n",
            "Best Regards,\n",
            "AImy\n",
            "Email ID: E009, Classification: product inquiry\n",
            "Response: Idioma del correo electrónico: Español\n",
            "\n",
            "Hola,\n",
            "\n",
            "Gracias por tu consulta sobre el Gorro de punto grueso DHN0987. Este gorro está hecho de una mezcla de lana y acrílico, lo que lo hace muy cálido y cómodo para usar en invierno. Es ideal para mantener el calor en climas fríos.\n",
            "\n",
            "Si tienes alguna otra pregunta, no dudes en contactarnos.\n",
            "\n",
            "Saludos cordiales,  \n",
            "AImy\n",
            "Email ID: E010, Classification: order request\n",
            "Retro Sunglasses 1\n",
            "Response: Dear Customer,\n",
            "\n",
            "Thank you for your interest in our RSG8901 Retro Sunglasses. I am pleased to inform you that we have enough stock to fulfill your order. I will proceed with placing your order for 1 pair of RSG8901 Retro Sunglasses.\n",
            "\n",
            "Once your order is confirmed, we will send you an email with the shipping details. \n",
            "\n",
            "Thank you for choosing us for your shopping needs. If you have any other questions or need further assistance, feel free to ask.\n",
            "\n",
            "Best Regards,\n",
            "AImy\n",
            "Email ID: E011, Classification: product inquiry\n",
            "Response: Hi there,\n",
            "\n",
            "Thank you for reaching out with your question! The RSG8901 Retro Sunglasses are inspired by the iconic styles of the 1960s. They capture the essence of that era with their unique design and flair, offering a cool, nostalgic vibe that many of our customers love.\n",
            "\n",
            "If you have any more questions or need further assistance, feel free to let me know!\n",
            "\n",
            "Best regards,  \n",
            "AImy\n",
            "Email ID: E012, Classification: product inquiry\n",
            "Response: Hello,\n",
            "\n",
            "I hope you're doing well too! I'm glad to hear that you enjoyed the leather briefcase from our store. I'm sorry to hear about the strap breaking, though. We have a variety of messenger bags and briefcase styles that might suit your needs for something slightly smaller.\n",
            "\n",
            "Here are a few options you might consider:\n",
            "\n",
            "1. **Compact Leather Messenger Bag**: This bag offers a sleek design with enough space for your essentials, perfect for daily work use.\n",
            "\n",
            "2. **Slimline Briefcase**: A more streamlined version of our classic briefcase, providing a professional look with a lighter feel.\n",
            "\n",
            "3. **Convertible Laptop Bag**: This versatile option can be used as both a briefcase and a messenger bag, offering flexibility and style.\n",
            "\n",
            "Please let me know if you need more details on any of these options or if there's anything else I can assist you with.\n",
            "\n",
            "Best regards,\n",
            "\n",
            "AImy\n",
            "Email ID: E013, Classification: order request\n",
            "slide sandals for men 1\n",
            "Response: Dear Marco,\n",
            "\n",
            "Thank you for your interest in our Men's Slide Sandals. I am pleased to inform you that we have this item in stock and ready for purchase. \n",
            "\n",
            "To proceed with your order, please reply to this email with your preferred size and color. Once we have this information, we will be able to finalize your order and provide you with payment details.\n",
            "\n",
            "Looking forward to hearing from you soon.\n",
            "\n",
            "Best regards,\n",
            "AImy\n",
            "Email ID: E014, Classification: order request\n",
            "Sleek Wallet 1\n",
            "Response: Dear Johny,\n",
            "\n",
            "Thank you for your order request. I am pleased to inform you that we have enough stock of the Sleek Wallet and your order has been successfully processed. \n",
            "\n",
            "We will be in touch shortly with shipping details. \n",
            "\n",
            "Thank you for choosing our services.\n",
            "\n",
            "Best Regards,\n",
            "AImy\n",
            "Email ID: E015, Classification: product inquiry\n",
            "Response: Good morning,\n",
            "\n",
            "Thank you for reaching out and considering our products for such a special occasion! Based on your description, I would recommend our \"Versatile Men's Messenger Bag.\" This bag is designed to be both stylish and functional, making it perfect for a professional office setting as well as outdoor activities.\n",
            "\n",
            "Key features include:\n",
            "- Durable, water-resistant material suitable for hikes and outdoor use.\n",
            "- A sleek, professional design that fits well in an office environment.\n",
            "- Multiple compartments to organize work essentials and personal items.\n",
            "- An adjustable strap for comfort during long walks or hikes.\n",
            "\n",
            "I hope this helps, and please let me know if you have any further questions or need additional information.\n",
            "\n",
            "Best regards,\n",
            "AImy\n",
            "Email ID: E016, Classification: product inquiry\n",
            "Response: Hello Claire,\n",
            "\n",
            "Thank you for reaching out! I understand you're looking for a dress for a summer wedding that strikes the perfect balance between flattering and comfortable. Based on your preferences, I recommend considering the following options:\n",
            "\n",
            "1. **A-Line Midi Dress**: This style offers a flattering silhouette without being too tight or revealing. The midi length is perfect for an outdoor ceremony, providing elegance and comfort.\n",
            "\n",
            "2. **Wrap Dress**: A wrap dress can be adjusted to fit your body comfortably while offering a stylish and sophisticated look. It's a versatile option that works well for various body types.\n",
            "\n",
            "3. **Fit and Flare Dress**: This style accentuates the waist and flares out, providing a flattering shape without being too tight. It's a great choice for a summer wedding.\n",
            "\n",
            "As for a travel bag, could you please provide more details on what you're looking for? For example, are you interested in a carry-on, a weekender bag, or something else? This will help me recommend the best options for your needs.\n",
            "\n",
            "Feel free to let me know if you have any other questions or need further assistance!\n",
            "\n",
            "Best regards,  \n",
            "AImy\n",
            "Email ID: E017, Classification: product inquiry\n",
            "Response: Hello,\n",
            "\n",
            "Thank you for reaching out! We have several popular items that have been in high demand recently. Could you please provide a bit more detail or specify the product name or category you are interested in? This will help me assist you better with your order.\n",
            "\n",
            "Looking forward to your response.\n",
            "\n",
            "Best regards,  \n",
            "AImy\n",
            "Email ID: E018, Classification: order request\n",
            "retro sun glasses 2\n",
            "Response: Subject: Your Order for Retro Sunglasses (RSG8901)\n",
            "\n",
            "Dear Customer,\n",
            "\n",
            "Thank you for your interest in our Retro Sunglasses (RSG8901). I am pleased to inform you that we have sufficient stock to fulfill your order for 2 pairs. \n",
            "\n",
            "Your order has been processed and is now ready for the next steps. We will reach out to you shortly for shipping details.\n",
            "\n",
            "Thank you for choosing our services. If you have any other requests or inquiries, please feel free to let us know.\n",
            "\n",
            "Best Regards,\n",
            "AImy\n",
            "Email ID: E019, Classification: order request\n",
            "Chelsea Boots 1\n",
            "Response: Dear Customer,\n",
            "\n",
            "Thank you for your kind words and your interest in our Chelsea Boots [CBT 89 01]. We are thrilled to hear that you were satisfied with the quality of our Fuzzy Slippers - FZZ1098. \n",
            "\n",
            "I am pleased to inform you that we currently have the Chelsea Boots [CBT 89 01] in stock and we can proceed with your order. We assure you that the quality of our products remains consistent and you will be just as impressed with these boots.\n",
            "\n",
            "We look forward to your future order for the Retro sunglasses. \n",
            "\n",
            "Thank you for choosing us for your shopping needs. Your order will be processed and shipped as soon as possible.\n",
            "\n",
            "Best Regards,\n",
            "AImy\n",
            "Email ID: E020, Classification: product inquiry\n",
            "Response: Hello Antonio,\n",
            "\n",
            "Thank you for reaching out with your inquiry. The cost of the Saddle bag is $75. It is designed with versatile materials and colors, making it a great accessory for the spring season. If you have any more questions or need further assistance, feel free to ask.\n",
            "\n",
            "Best regards,  \n",
            "AImy\n",
            "Email ID: E021, Classification: product inquiry\n",
            "Response: Thank you for reaching out and for your kind words about your recent purchases! I'm delighted to hear that the vintage items are a perfect fit for your style.\n",
            "\n",
            "Regarding your inquiry about winter hats, could you please provide more details about the type of winter hat you are looking for? We have a variety of styles, and knowing your preferences will help me assist you better.\n",
            "\n",
            "Looking forward to your response!\n",
            "\n",
            "Best regards,  \n",
            "AImy\n"
          ]
        }
      ]
    },
    {
      "cell_type": "code",
      "source": [
        "# Update Sheets\n",
        "# Populate the classification sheet with the classification results\n",
        "email_classification_sheet.update([[\"email ID\", \"category\"]] + [[result[\"email ID\"], result[\"category\"]] for result in classification_results])\n",
        "# Populate the order status sheet with order status results\n",
        "order_status_sheet.update([[\"email ID\", \"product ID\", \"quantity\", \"status\"]] + [[result[\"email ID\"], result[\"product ID\"], result[\"quantity\"].item(), result[\"status\"]] for result in order_status_results])\n",
        "# Update stock levels\n",
        "products_sheet = document.worksheet('products')\n",
        "products_sheet.clear()\n",
        "products_sheet.update([products_df.columns.values.tolist()] + products_df.values.tolist())\n",
        "# Populate the order response sheet with generated order responses\n",
        "order_response_sheet.update([[\"email ID\", \"response\"]] + [[result[\"email ID\"], result[\"response\"]] for result in order_response_results])\n",
        "# Populate the inquiry response sheet with generated responses to product inquiries\n",
        "inquiry_response_sheet.update([[\"email ID\", \"response\"]] + [[result[\"email ID\"], result[\"response\"]] for result in inquiry_response_results])"
      ],
      "metadata": {
        "colab": {
          "base_uri": "https://localhost:8080/"
        },
        "id": "WvI0clWDgtyi",
        "outputId": "971be5bc-f922-4560-8659-6818186072de"
      },
      "execution_count": null,
      "outputs": [
        {
          "output_type": "execute_result",
          "data": {
            "text/plain": [
              "{'spreadsheetId': '138liOBnXQvw28By66Ahd5ArOYDg_LOpKPaR_1LbdkUg',\n",
              " 'updatedRange': 'products!A1:G100',\n",
              " 'updatedRows': 100,\n",
              " 'updatedColumns': 7,\n",
              " 'updatedCells': 700}"
            ]
          },
          "metadata": {},
          "execution_count": 29
        }
      ]
    },
    {
      "cell_type": "code",
      "source": [
        "# The following cells are used for testing the functionality of the order extraction and inquiry response chains.\n",
        "# These tests simulate sample customer emails to ensure that:\n",
        "# - The `order_extraction_chain` correctly identifies and extracts product IDs, names, and quantities from an order request email.\n",
        "# - The `inquiry_chain` generates an appropriate response for a vague product inquiry, prompting for more information if necessary.\n",
        "\n",
        "# Test extraction of product details and quantities from an order request email\n",
        "order_extraction_string = order_extraction_chain.invoke({\"email\": \"Hi, this is Liz. Please send me 5 CLF2109 Cable Knit Beanies and 2 pairs of FZZ1098 Fuzzy Slippers. I'm prepping some holiday gift baskets.\"}).split('\\n')\n",
        "order_extraction_string"
      ],
      "metadata": {
        "colab": {
          "base_uri": "https://localhost:8080/"
        },
        "id": "w1eyqUIZ_rtf",
        "outputId": "83fc37b3-9147-48c2-85ce-ce7e6f430474"
      },
      "execution_count": null,
      "outputs": [
        {
          "output_type": "execute_result",
          "data": {
            "text/plain": [
              "[\"{'product_id': 'CLF2109', 'product_name': 'Cable Knit Beanies', 'quantity': 5}\",\n",
              " \"{'product_id': 'FZZ1098', 'product_name': 'Fuzzy Slippers', 'quantity': 2}\"]"
            ]
          },
          "metadata": {},
          "execution_count": 20
        }
      ]
    },
    {
      "cell_type": "code",
      "source": [
        "# Test handling of a vague product inquiry to ensure the response chain prompts for clarification if needed\n",
        "inquiry_test = inquiry_chain.invoke({\"email\": \"Hi there I want to place an order for that popular item you sell. The one that's been selling like hotcakes lately. You know what I mean right?\"})\n",
        "inquiry_test"
      ],
      "metadata": {
        "colab": {
          "base_uri": "https://localhost:8080/",
          "height": 53
        },
        "id": "EE3cxE2CneV8",
        "outputId": "1a87eef2-9730-4b7d-bd17-54f4460f447e"
      },
      "execution_count": null,
      "outputs": [
        {
          "output_type": "execute_result",
          "data": {
            "text/plain": [
              "'Subject: Re: Inquiry About Popular Item\\n\\nHi there,\\n\\nThank you for reaching out! We have several popular items that have been selling quickly. Could you please provide a bit more detail or specify the product name or category you are interested in? This will help me assist you better with your order.\\n\\nLooking forward to your response.\\n\\nBest regards,  \\nAImy'"
            ],
            "application/vnd.google.colaboratory.intrinsic+json": {
              "type": "string"
            }
          },
          "metadata": {},
          "execution_count": 21
        }
      ]
    },
    {
      "cell_type": "code",
      "source": [
        "print(order_status_results)"
      ],
      "metadata": {
        "colab": {
          "base_uri": "https://localhost:8080/"
        },
        "collapsed": true,
        "id": "fWvrYg7LhbIw",
        "outputId": "2537c60f-8431-4278-dd19-83c173bba3b0"
      },
      "execution_count": null,
      "outputs": [
        {
          "output_type": "stream",
          "name": "stdout",
          "text": [
            "[{'email ID': 'E001', 'product ID': 'LTH0976', 'quantity': 1, 'status': 'created'}, {'email ID': 'E002', 'product ID': 'VBT2345', 'quantity': 1, 'status': 'created'}, {'email ID': 'E004', 'product ID': 'SFT1098', 'quantity': 3, 'status': 'created'}, {'email ID': 'E007', 'product ID': 'CLF2109', 'quantity': 5, 'status': 'out of stock'}, {'email ID': 'E007', 'product ID': 'FZZ1098', 'quantity': 2, 'status': 'created'}, {'email ID': 'E008', 'product ID': 'VSC6789', 'quantity': 1, 'status': 'created'}, {'email ID': 'E010', 'product ID': 'RSG8901', 'quantity': 1, 'status': 'created'}, {'email ID': 'E013', 'product ID': 'SLD7654', 'quantity': 1, 'status': 'created'}, {'email ID': 'E014', 'product ID': 'SWL2345', 'quantity': 1, 'status': 'created'}, {'email ID': 'E018', 'product ID': 'RSG8901', 'quantity': 2, 'status': 'out of stock'}, {'email ID': 'E019', 'product ID': 'CBT8901', 'quantity': 1, 'status': 'created'}, {'email ID': 'E019', 'product ID': 'FZZ1098', 'quantity': 1, 'status': 'out of stock'}]\n"
          ]
        }
      ]
    }
  ],
  "metadata": {
    "colab": {
      "provenance": []
    },
    "kernelspec": {
      "display_name": "Python 3",
      "name": "python3"
    },
    "language_info": {
      "name": "python"
    }
  },
  "nbformat": 4,
  "nbformat_minor": 0
}